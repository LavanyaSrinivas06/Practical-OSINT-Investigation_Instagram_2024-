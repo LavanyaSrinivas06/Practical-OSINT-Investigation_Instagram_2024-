{
 "cells": [
  {
   "cell_type": "code",
   "execution_count": 52,
   "metadata": {},
   "outputs": [
    {
     "name": "stdout",
     "output_type": "stream",
     "text": [
      "Defaulting to user installation because normal site-packages is not writeable\n",
      "Requirement already satisfied: requests in c:\\users\\lavan\\appdata\\local\\packages\\pythonsoftwarefoundation.python.3.13_qbz5n2kfra8p0\\localcache\\local-packages\\python312\\site-packages (2.32.3)\n",
      "Requirement already satisfied: charset-normalizer<4,>=2 in c:\\users\\lavan\\appdata\\local\\packages\\pythonsoftwarefoundation.python.3.13_qbz5n2kfra8p0\\localcache\\local-packages\\python312\\site-packages (from requests) (3.4.0)\n",
      "Requirement already satisfied: idna<4,>=2.5 in c:\\users\\lavan\\appdata\\local\\packages\\pythonsoftwarefoundation.python.3.13_qbz5n2kfra8p0\\localcache\\local-packages\\python312\\site-packages (from requests) (3.10)\n",
      "Requirement already satisfied: urllib3<3,>=1.21.1 in c:\\users\\lavan\\appdata\\local\\packages\\pythonsoftwarefoundation.python.3.13_qbz5n2kfra8p0\\localcache\\local-packages\\python312\\site-packages (from requests) (2.2.3)\n",
      "Requirement already satisfied: certifi>=2017.4.17 in c:\\users\\lavan\\appdata\\local\\packages\\pythonsoftwarefoundation.python.3.13_qbz5n2kfra8p0\\localcache\\local-packages\\python312\\site-packages (from requests) (2024.8.30)\n"
     ]
    },
    {
     "name": "stderr",
     "output_type": "stream",
     "text": [
      "\n",
      "[notice] A new release of pip is available: 24.2 -> 24.3.1\n",
      "[notice] To update, run: C:\\Users\\Lavan\\AppData\\Local\\Microsoft\\WindowsApps\\PythonSoftwareFoundation.Python.3.12_qbz5n2kfra8p0\\python.exe -m pip install --upgrade pip\n"
     ]
    }
   ],
   "source": [
    "!pip install requests\n"
   ]
  },
  {
   "cell_type": "markdown",
   "metadata": {},
   "source": [
    "# Install and Import Required Libraries\n",
    "Install Instaloader using pip and import the necessary libraries including Instaloader and matplotlib."
   ]
  },
  {
   "cell_type": "code",
   "execution_count": 53,
   "metadata": {},
   "outputs": [
    {
     "name": "stdout",
     "output_type": "stream",
     "text": [
      "Defaulting to user installation because normal site-packages is not writeable\n",
      "Requirement already satisfied: instaloader in c:\\users\\lavan\\appdata\\local\\packages\\pythonsoftwarefoundation.python.3.13_qbz5n2kfra8p0\\localcache\\local-packages\\python312\\site-packages (4.13.2)\n",
      "Requirement already satisfied: requests in c:\\users\\lavan\\appdata\\local\\packages\\pythonsoftwarefoundation.python.3.13_qbz5n2kfra8p0\\localcache\\local-packages\\python312\\site-packages (2.32.3)\n",
      "Requirement already satisfied: matplotlib in c:\\users\\lavan\\appdata\\local\\packages\\pythonsoftwarefoundation.python.3.13_qbz5n2kfra8p0\\localcache\\local-packages\\python312\\site-packages (3.9.2)\n",
      "Requirement already satisfied: charset-normalizer<4,>=2 in c:\\users\\lavan\\appdata\\local\\packages\\pythonsoftwarefoundation.python.3.13_qbz5n2kfra8p0\\localcache\\local-packages\\python312\\site-packages (from requests) (3.4.0)\n",
      "Requirement already satisfied: idna<4,>=2.5 in c:\\users\\lavan\\appdata\\local\\packages\\pythonsoftwarefoundation.python.3.13_qbz5n2kfra8p0\\localcache\\local-packages\\python312\\site-packages (from requests) (3.10)\n",
      "Requirement already satisfied: urllib3<3,>=1.21.1 in c:\\users\\lavan\\appdata\\local\\packages\\pythonsoftwarefoundation.python.3.13_qbz5n2kfra8p0\\localcache\\local-packages\\python312\\site-packages (from requests) (2.2.3)\n",
      "Requirement already satisfied: certifi>=2017.4.17 in c:\\users\\lavan\\appdata\\local\\packages\\pythonsoftwarefoundation.python.3.13_qbz5n2kfra8p0\\localcache\\local-packages\\python312\\site-packages (from requests) (2024.8.30)\n",
      "Requirement already satisfied: contourpy>=1.0.1 in c:\\users\\lavan\\appdata\\local\\packages\\pythonsoftwarefoundation.python.3.13_qbz5n2kfra8p0\\localcache\\local-packages\\python312\\site-packages (from matplotlib) (1.3.0)\n",
      "Requirement already satisfied: cycler>=0.10 in c:\\users\\lavan\\appdata\\local\\packages\\pythonsoftwarefoundation.python.3.13_qbz5n2kfra8p0\\localcache\\local-packages\\python312\\site-packages (from matplotlib) (0.12.1)\n",
      "Requirement already satisfied: fonttools>=4.22.0 in c:\\users\\lavan\\appdata\\local\\packages\\pythonsoftwarefoundation.python.3.13_qbz5n2kfra8p0\\localcache\\local-packages\\python312\\site-packages (from matplotlib) (4.54.1)\n",
      "Requirement already satisfied: kiwisolver>=1.3.1 in c:\\users\\lavan\\appdata\\local\\packages\\pythonsoftwarefoundation.python.3.13_qbz5n2kfra8p0\\localcache\\local-packages\\python312\\site-packages (from matplotlib) (1.4.7)\n",
      "Requirement already satisfied: numpy>=1.23 in c:\\users\\lavan\\appdata\\local\\packages\\pythonsoftwarefoundation.python.3.13_qbz5n2kfra8p0\\localcache\\local-packages\\python312\\site-packages (from matplotlib) (2.1.3)\n",
      "Requirement already satisfied: packaging>=20.0 in c:\\users\\lavan\\appdata\\local\\packages\\pythonsoftwarefoundation.python.3.13_qbz5n2kfra8p0\\localcache\\local-packages\\python312\\site-packages (from matplotlib) (24.1)\n",
      "Requirement already satisfied: pillow>=8 in c:\\users\\lavan\\appdata\\local\\packages\\pythonsoftwarefoundation.python.3.13_qbz5n2kfra8p0\\localcache\\local-packages\\python312\\site-packages (from matplotlib) (11.0.0)\n",
      "Requirement already satisfied: pyparsing>=2.3.1 in c:\\users\\lavan\\appdata\\local\\packages\\pythonsoftwarefoundation.python.3.13_qbz5n2kfra8p0\\localcache\\local-packages\\python312\\site-packages (from matplotlib) (3.2.0)\n",
      "Requirement already satisfied: python-dateutil>=2.7 in c:\\users\\lavan\\appdata\\local\\packages\\pythonsoftwarefoundation.python.3.13_qbz5n2kfra8p0\\localcache\\local-packages\\python312\\site-packages (from matplotlib) (2.9.0.post0)\n",
      "Requirement already satisfied: six>=1.5 in c:\\users\\lavan\\appdata\\local\\packages\\pythonsoftwarefoundation.python.3.13_qbz5n2kfra8p0\\localcache\\local-packages\\python312\\site-packages (from python-dateutil>=2.7->matplotlib) (1.16.0)\n"
     ]
    },
    {
     "name": "stderr",
     "output_type": "stream",
     "text": [
      "\n",
      "[notice] A new release of pip is available: 24.2 -> 24.3.1\n",
      "[notice] To update, run: C:\\Users\\Lavan\\AppData\\Local\\Microsoft\\WindowsApps\\PythonSoftwareFoundation.Python.3.12_qbz5n2kfra8p0\\python.exe -m pip install --upgrade pip\n"
     ]
    }
   ],
   "source": [
    "# Install required libraries\n",
    "!pip install instaloader requests matplotlib\n",
    "\n",
    "# Import libraries\n",
    "import instaloader\n",
    "import requests\n",
    "import matplotlib.pyplot as plt\n"
   ]
  },
  {
   "cell_type": "code",
   "execution_count": 54,
   "metadata": {},
   "outputs": [
    {
     "name": "stdout",
     "output_type": "stream",
     "text": [
      "Defaulting to user installation because normal site-packages is not writeable\n",
      "Requirement already satisfied: instaloader in c:\\users\\lavan\\appdata\\local\\packages\\pythonsoftwarefoundation.python.3.13_qbz5n2kfra8p0\\localcache\\local-packages\\python312\\site-packages (4.13.2)\n",
      "Requirement already satisfied: requests in c:\\users\\lavan\\appdata\\local\\packages\\pythonsoftwarefoundation.python.3.13_qbz5n2kfra8p0\\localcache\\local-packages\\python312\\site-packages (2.32.3)\n",
      "Requirement already satisfied: charset-normalizer<4,>=2 in c:\\users\\lavan\\appdata\\local\\packages\\pythonsoftwarefoundation.python.3.13_qbz5n2kfra8p0\\localcache\\local-packages\\python312\\site-packages (from requests) (3.4.0)\n",
      "Requirement already satisfied: idna<4,>=2.5 in c:\\users\\lavan\\appdata\\local\\packages\\pythonsoftwarefoundation.python.3.13_qbz5n2kfra8p0\\localcache\\local-packages\\python312\\site-packages (from requests) (3.10)\n",
      "Requirement already satisfied: urllib3<3,>=1.21.1 in c:\\users\\lavan\\appdata\\local\\packages\\pythonsoftwarefoundation.python.3.13_qbz5n2kfra8p0\\localcache\\local-packages\\python312\\site-packages (from requests) (2.2.3)\n",
      "Requirement already satisfied: certifi>=2017.4.17 in c:\\users\\lavan\\appdata\\local\\packages\\pythonsoftwarefoundation.python.3.13_qbz5n2kfra8p0\\localcache\\local-packages\\python312\\site-packages (from requests) (2024.8.30)\n"
     ]
    },
    {
     "name": "stderr",
     "output_type": "stream",
     "text": [
      "\n",
      "[notice] A new release of pip is available: 24.2 -> 24.3.1\n",
      "[notice] To update, run: C:\\Users\\Lavan\\AppData\\Local\\Microsoft\\WindowsApps\\PythonSoftwareFoundation.Python.3.12_qbz5n2kfra8p0\\python.exe -m pip install --upgrade pip\n"
     ]
    }
   ],
   "source": [
    "!pip install instaloader requests\n"
   ]
  },
  {
   "cell_type": "markdown",
   "metadata": {},
   "source": [
    "# Initialize Instaloader\n",
    "Initialize the Instaloader object to start extracting data."
   ]
  },
  {
   "cell_type": "code",
   "execution_count": 55,
   "metadata": {},
   "outputs": [],
   "source": [
    "# Initialize the Instaloader object to start extracting data\n",
    "L = instaloader.Instaloader()"
   ]
  },
  {
   "cell_type": "markdown",
   "metadata": {},
   "source": [
    "# Set up session using cookies"
   ]
  },
  {
   "cell_type": "code",
   "execution_count": 56,
   "metadata": {},
   "outputs": [],
   "source": [
    "def setup_session_with_cookies(sessionid, csrftoken, ds_user_id):\n",
    "    session = requests.Session()\n",
    "    session.cookies.set(\"sessionid\", sessionid)\n",
    "    session.cookies.set(\"csrftoken\", csrftoken)\n",
    "    session.cookies.set(\"ds_user_id\", ds_user_id)\n",
    "    L.context._session = session\n",
    "    print(\"Session established with cookies.\")"
   ]
  },
  {
   "cell_type": "markdown",
   "metadata": {},
   "source": [
    "# Extract Instagram Profile Data\n",
    "Use Instaloader to download the profile data of a specified Instagram user."
   ]
  },
  {
   "cell_type": "code",
   "execution_count": 57,
   "metadata": {},
   "outputs": [],
   "source": [
    "def extract_profile_data(username):\n",
    "    try:\n",
    "        # Load profile\n",
    "        profile = instaloader.Profile.from_username(L.context, username)\n",
    "        profile_data = {\n",
    "            'username': profile.username,\n",
    "            'fullname': profile.full_name,\n",
    "            'followers': profile.followers,\n",
    "            'following': profile.followees,\n",
    "            'posts': profile.mediacount,\n",
    "            'biography': profile.biography,\n",
    "            'is_private': profile.is_private,\n",
    "        }\n",
    "        return profile, profile_data\n",
    "    except Exception as e:\n",
    "        print(f\"Error fetching profile: {e}\")\n",
    "        return None, None"
   ]
  },
  {
   "cell_type": "markdown",
   "metadata": {},
   "source": [
    "# Display Profile Details\n",
    "Extract and display details such as username, number of posts, followers, and followees."
   ]
  },
  {
   "cell_type": "code",
   "execution_count": 58,
   "metadata": {},
   "outputs": [],
   "source": [
    "def display_profile_details(profile_data):\n",
    "    print(f\"\\nProfile Details:\")\n",
    "    print(f\"Username: {profile_data['username']}\")\n",
    "    print(f\"Full Name: {profile_data['fullname']}\")\n",
    "    print(f\"Followers: {profile_data['followers']}\")\n",
    "    print(f\"Following: {profile_data['following']}\")\n",
    "    print(f\"Posts: {profile_data['posts']}\")\n",
    "    print(f\"Biography: {profile_data['biography']}\")\n",
    "    print(f\"Private Account: {profile_data['is_private']}\")"
   ]
  },
  {
   "cell_type": "markdown",
   "metadata": {},
   "source": [
    "# Calculate Engagement Rate\n",
    "Calculate the engagement rate based on the number of likes and comments on the posts."
   ]
  },
  {
   "cell_type": "code",
   "execution_count": 59,
   "metadata": {},
   "outputs": [],
   "source": [
    "def calculate_engagement_rate(profile, num_posts=10):\n",
    "    total_likes = 0\n",
    "    total_comments = 0\n",
    "    count = 0\n",
    "    for post in profile.get_posts():\n",
    "        if count == num_posts:\n",
    "            break\n",
    "        total_likes += post.likes\n",
    "        total_comments += post.comments\n",
    "        count += 1\n",
    "    engagement_rate = ((total_likes + total_comments) / (num_posts * profile.followers)) * 100\n",
    "    return engagement_rate"
   ]
  },
  {
   "cell_type": "markdown",
   "metadata": {},
   "source": [
    "# Visualize Engagement Rate\n",
    "Use matplotlib to visualize the engagement rate over time."
   ]
  },
  {
   "cell_type": "code",
   "execution_count": 60,
   "metadata": {},
   "outputs": [],
   "source": [
    "def visualize_engagement_rate(engagement_rate, username):\n",
    "    plt.figure(figsize=(6, 4))\n",
    "    plt.bar([username], [engagement_rate], color='skyblue')\n",
    "    plt.xlabel('Profile')\n",
    "    plt.ylabel('Engagement Rate (%)')\n",
    "    plt.title(f'Engagement Rate for {username}')\n",
    "    plt.show()"
   ]
  },
  {
   "cell_type": "markdown",
   "metadata": {},
   "source": [
    "## Main Function"
   ]
  },
  {
   "cell_type": "code",
   "execution_count": 61,
   "metadata": {},
   "outputs": [
    {
     "name": "stdout",
     "output_type": "stream",
     "text": [
      "Session established with cookies.\n",
      "\n",
      "Profile Details:\n",
      "Username: chaithrataratwinstories\n",
      "Full Name: Mounika Vonteru\n",
      "Followers: 179421\n",
      "Following: 6\n",
      "Posts: 441\n",
      "Biography: Chaithra Tara Twin Stories\n",
      "managed by \n",
      "Mom  @mounikareddyvonteru  \n",
      "Dad @bharath_thipireddy\n",
      "Private Account: False\n",
      "\n",
      "Engagement Rate: 21.70%\n"
     ]
    },
    {
     "data": {
      "image/png": "[encoded data removed]",
      "text/plain": [
       "<Figure size 600x400 with 1 Axes>"
      ]
     },
     "metadata": {},
     "output_type": "display_data"
    }
   ],
   "source": [
    "def main():\n",
    "    # Enter your cookies once\n",
    "    sessionid = input(\"Enter your Instagram sessionid cookie: \")\n",
    "    csrftoken = input(\"Enter your Instagram csrftoken cookie: \")\n",
    "    ds_user_id = input(\"Enter your Instagram ds_user_id cookie: \")\n",
    "\n",
    "    # Set up session with cookies\n",
    "    setup_session_with_cookies(sessionid, csrftoken, ds_user_id)\n",
    "\n",
    "    # Get the target username to analyze\n",
    "    target_username = input(\"Enter the Instagram username to analyze: \")\n",
    "\n",
    "    # Extract profile data\n",
    "    profile, profile_data = extract_profile_data(target_username)\n",
    "\n",
    "    if profile and profile_data:\n",
    "        # Display profile details\n",
    "        display_profile_details(profile_data)\n",
    "\n",
    "        # Calculate engagement rate\n",
    "        engagement_rate = calculate_engagement_rate(profile)\n",
    "        print(f\"\\nEngagement Rate: {engagement_rate:.2f}%\")\n",
    "\n",
    "        # Visualize engagement rate\n",
    "        visualize_engagement_rate(engagement_rate, target_username)\n",
    "\n",
    "# Run the main function\n",
    "main()"
   ]
  }
 ],
 "metadata": {
  "kernelspec": {
   "display_name": "Python 3",
   "language": "python",
   "name": "python3"
  },
  "language_info": {
   "codemirror_mode": {
    "name": "ipython",
    "version": 3
   },
   "file_extension": ".py",
   "mimetype": "text/x-python",
   "name": "python",
   "nbconvert_exporter": "python",
   "pygments_lexer": "ipython3",
   "version": "3.13.0"
  }
 },
 "nbformat": 4,
 "nbformat_minor": 2
}
